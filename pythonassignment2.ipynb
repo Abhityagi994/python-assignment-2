{
 "cells": [
  {
   "cell_type": "markdown",
   "id": "bd7ee8bd",
   "metadata": {},
   "source": [
    "1. str.capitalize()"
   ]
  },
  {
   "cell_type": "code",
   "execution_count": 1,
   "id": "1ff526c7",
   "metadata": {},
   "outputs": [
    {
     "data": {
      "text/plain": [
       "'This is a string'"
      ]
     },
     "execution_count": 1,
     "metadata": {},
     "output_type": "execute_result"
    }
   ],
   "source": [
    "\n",
    "string = \"this is a string\"\n",
    "string.capitalize()"
   ]
  },
  {
   "cell_type": "markdown",
   "id": "fdef90be",
   "metadata": {},
   "source": [
    " 2. str.casefold()\n",
    "Converts to lowercase (more aggressive than lower())."
   ]
  },
  {
   "cell_type": "code",
   "execution_count": 2,
   "id": "a1701bf4",
   "metadata": {},
   "outputs": [
    {
     "data": {
      "text/plain": [
       "'this is a string'"
      ]
     },
     "execution_count": 2,
     "metadata": {},
     "output_type": "execute_result"
    }
   ],
   "source": [
    "\n",
    "string = \"this is a string\"\n",
    "string.casefold()"
   ]
  },
  {
   "cell_type": "markdown",
   "id": "d3e0621f",
   "metadata": {},
   "source": [
    "4. tr.center(width[, fillchar])\n",
    "Centers the string within the specified width.\n"
   ]
  },
  {
   "cell_type": "code",
   "execution_count": 3,
   "id": "42248a87",
   "metadata": {},
   "outputs": [
    {
     "data": {
      "text/plain": [
       "'                 this is a string                 '"
      ]
     },
     "execution_count": 3,
     "metadata": {},
     "output_type": "execute_result"
    }
   ],
   "source": [
    "\n",
    "string = \"this is a string\"\n",
    "string.center(50)"
   ]
  },
  {
   "cell_type": "markdown",
   "id": "62a4cd78",
   "metadata": {},
   "source": [
    "5. str.count(sub[, start[, end]])\n",
    "Returns the number of non-overlapping occurrences of a substring."
   ]
  },
  {
   "cell_type": "code",
   "execution_count": 4,
   "id": "2997e060",
   "metadata": {},
   "outputs": [
    {
     "data": {
      "text/plain": [
       "3"
      ]
     },
     "execution_count": 4,
     "metadata": {},
     "output_type": "execute_result"
    }
   ],
   "source": [
    "string = \"this is a string\" \n",
    "string.count(\"i\")"
   ]
  },
  {
   "cell_type": "markdown",
   "id": "9107bc92",
   "metadata": {},
   "source": [
    "6. str.encode(encoding=\"utf-8\", errors=\"strict\")\n",
    "Returns encoded version of the string."
   ]
  },
  {
   "cell_type": "code",
   "execution_count": 5,
   "id": "cf44e90b",
   "metadata": {},
   "outputs": [
    {
     "data": {
      "text/plain": [
       "b'this is a string'"
      ]
     },
     "execution_count": 5,
     "metadata": {},
     "output_type": "execute_result"
    }
   ],
   "source": [
    "string = \"this is a string\" \n",
    "string.encode()"
   ]
  },
  {
   "cell_type": "markdown",
   "id": "e3ee9f23",
   "metadata": {},
   "source": [
    "7. str.endswith(suffix[, start[, end]])\n",
    "Returns True if the string ends with the specified suffix."
   ]
  },
  {
   "cell_type": "code",
   "execution_count": 6,
   "id": "2819d6ba",
   "metadata": {},
   "outputs": [
    {
     "data": {
      "text/plain": [
       "True"
      ]
     },
     "execution_count": 6,
     "metadata": {},
     "output_type": "execute_result"
    }
   ],
   "source": [
    "string = \"this is a string\" \n",
    "string.endswith(\"g\")"
   ]
  },
  {
   "cell_type": "markdown",
   "id": "0de9d8c9",
   "metadata": {},
   "source": [
    "8. str.expandtabs(tabsize=8)\n",
    "Replaces tabs with spaces."
   ]
  },
  {
   "cell_type": "code",
   "execution_count": 7,
   "id": "2a52890e",
   "metadata": {},
   "outputs": [
    {
     "name": "stdout",
     "output_type": "stream",
     "text": [
      "Hello   World\n"
     ]
    }
   ],
   "source": [
    "text = \"Hello\\tWorld\" #here tab is replaced with 8 spaces\n",
    "print(text.expandtabs())"
   ]
  },
  {
   "cell_type": "markdown",
   "id": "e15c711a",
   "metadata": {},
   "source": [
    "9. str.find(sub[, start[, end]])\n",
    "Returns the lowest index of the substring; returns -1 if not found."
   ]
  },
  {
   "cell_type": "code",
   "execution_count": 8,
   "id": "95e4b328",
   "metadata": {},
   "outputs": [
    {
     "data": {
      "text/plain": [
       "2"
      ]
     },
     "execution_count": 8,
     "metadata": {},
     "output_type": "execute_result"
    }
   ],
   "source": [
    "string = \"this is a  string\" \n",
    "string.find(\"i\")"
   ]
  },
  {
   "cell_type": "markdown",
   "id": "982259ec",
   "metadata": {},
   "source": [
    "10. str.format(*args, **kwargs)\n",
    "Formats string using the specified arguments."
   ]
  },
  {
   "cell_type": "code",
   "execution_count": 9,
   "id": "5077243b",
   "metadata": {},
   "outputs": [
    {
     "name": "stdout",
     "output_type": "stream",
     "text": [
      "My name is abhi and I am 19 years old.\n"
     ]
    }
   ],
   "source": [
    "text = \"My name is {} and I am {} years old.\".format(\"abhi\", 19)\n",
    "print(text)"
   ]
  },
  {
   "cell_type": "markdown",
   "id": "c6e37783",
   "metadata": {},
   "source": [
    "11. str.format_map(mapping)\n",
    "Formats string using a mapping."
   ]
  },
  {
   "cell_type": "code",
   "execution_count": 10,
   "id": "4d6c6a98",
   "metadata": {},
   "outputs": [
    {
     "name": "stdout",
     "output_type": "stream",
     "text": [
      "My name is abhi and I am 21 years old.\n"
     ]
    }
   ],
   "source": [
    "data = {\"name\": \"abhi\", \"age\": 21}\n",
    "text = \"My name is {name} and I am {age} years old.\".format_map(data)\n",
    "print(text)"
   ]
  },
  {
   "cell_type": "markdown",
   "id": "ad5cd5e9",
   "metadata": {},
   "source": [
    "12. str.index(sub[, start[, end]])\n",
    "Like find() but raises ValueError if not found."
   ]
  },
  {
   "cell_type": "code",
   "execution_count": 11,
   "id": "26e40f4a",
   "metadata": {},
   "outputs": [
    {
     "data": {
      "text/plain": [
       "15"
      ]
     },
     "execution_count": 11,
     "metadata": {},
     "output_type": "execute_result"
    }
   ],
   "source": [
    "string = \"this is a string \" \n",
    "string.index(\"g\")"
   ]
  },
  {
   "cell_type": "markdown",
   "id": "7edcc45d",
   "metadata": {},
   "source": [
    "13. str.isalnum()\n",
    "Returns True if all characters are alphanumeric."
   ]
  },
  {
   "cell_type": "code",
   "execution_count": 12,
   "id": "da1b0dba",
   "metadata": {},
   "outputs": [
    {
     "data": {
      "text/plain": [
       "True"
      ]
     },
     "execution_count": 12,
     "metadata": {},
     "output_type": "execute_result"
    }
   ],
   "source": [
    "string = \"abcde\" \n",
    "string.isalnum()"
   ]
  },
  {
   "cell_type": "markdown",
   "id": "6c861287",
   "metadata": {},
   "source": [
    "14. str.isalpha()\n",
    "Returns True if all characters are alphabetic."
   ]
  },
  {
   "cell_type": "code",
   "execution_count": 13,
   "id": "ee8ec6ba",
   "metadata": {},
   "outputs": [
    {
     "data": {
      "text/plain": [
       "True"
      ]
     },
     "execution_count": 13,
     "metadata": {},
     "output_type": "execute_result"
    }
   ],
   "source": [
    "string = \"Thisisastring\" \n",
    "string.isalpha()"
   ]
  },
  {
   "cell_type": "markdown",
   "id": "de833225",
   "metadata": {},
   "source": [
    "15. str.isascii()\n",
    "Returns True if all characters are ASCII."
   ]
  },
  {
   "cell_type": "code",
   "execution_count": 14,
   "id": "a35e8172",
   "metadata": {},
   "outputs": [
    {
     "data": {
      "text/plain": [
       "True"
      ]
     },
     "execution_count": 14,
     "metadata": {},
     "output_type": "execute_result"
    }
   ],
   "source": [
    "string = \"98\" \n",
    "string.isascii()"
   ]
  },
  {
   "cell_type": "markdown",
   "id": "6f4e8315",
   "metadata": {},
   "source": [
    "16. str.isdecimal()\n",
    "Returns True if all characters are decimal characters."
   ]
  },
  {
   "cell_type": "code",
   "execution_count": 15,
   "id": "4a88483e",
   "metadata": {},
   "outputs": [
    {
     "data": {
      "text/plain": [
       "True"
      ]
     },
     "execution_count": 15,
     "metadata": {},
     "output_type": "execute_result"
    }
   ],
   "source": [
    "char = \"7/5\" \n",
    "string.isdecimal()"
   ]
  },
  {
   "cell_type": "markdown",
   "id": "d0b70d64",
   "metadata": {},
   "source": [
    "17. str.isdigit()\n",
    "Returns True if all characters are digits."
   ]
  },
  {
   "cell_type": "code",
   "execution_count": 16,
   "id": "e1edfa90",
   "metadata": {},
   "outputs": [
    {
     "data": {
      "text/plain": [
       "True"
      ]
     },
     "execution_count": 16,
     "metadata": {},
     "output_type": "execute_result"
    }
   ],
   "source": [
    "string = \"78\"\n",
    "string.isdigit()"
   ]
  },
  {
   "cell_type": "markdown",
   "id": "b83a81ba",
   "metadata": {},
   "source": [
    "18. 1str.isidentifier()\n",
    "Returns True if string is a valid identifier."
   ]
  },
  {
   "cell_type": "code",
   "execution_count": 17,
   "id": "b3051d3c",
   "metadata": {},
   "outputs": [
    {
     "data": {
      "text/plain": [
       "True"
      ]
     },
     "execution_count": 17,
     "metadata": {},
     "output_type": "execute_result"
    }
   ],
   "source": [
    "string = \"if\"\n",
    "string.isidentifier()"
   ]
  },
  {
   "cell_type": "markdown",
   "id": "7f0677c6",
   "metadata": {},
   "source": [
    "19. str.islower() Returns True if all characters are lowercase."
   ]
  },
  {
   "cell_type": "code",
   "execution_count": 18,
   "id": "488f5977",
   "metadata": {},
   "outputs": [
    {
     "data": {
      "text/plain": [
       "False"
      ]
     },
     "execution_count": 18,
     "metadata": {},
     "output_type": "execute_result"
    }
   ],
   "source": [
    "h='04abhi'\n",
    "h.isnumeric()"
   ]
  },
  {
   "cell_type": "markdown",
   "id": "7e690eb0",
   "metadata": {},
   "source": [
    "20. str.isprintable() Returns True if all characters are printable."
   ]
  },
  {
   "cell_type": "code",
   "execution_count": 19,
   "id": "6bf320bb",
   "metadata": {},
   "outputs": [
    {
     "data": {
      "text/plain": [
       "True"
      ]
     },
     "execution_count": 19,
     "metadata": {},
     "output_type": "execute_result"
    }
   ],
   "source": [
    "h='abhi'\n",
    "h.isprintable()"
   ]
  },
  {
   "cell_type": "markdown",
   "id": "248cf757",
   "metadata": {},
   "source": [
    "21. str.isspace() Returns True if all characters are whitespace."
   ]
  },
  {
   "cell_type": "code",
   "execution_count": 20,
   "id": "5f91eeed",
   "metadata": {},
   "outputs": [
    {
     "data": {
      "text/plain": [
       "True"
      ]
     },
     "execution_count": 20,
     "metadata": {},
     "output_type": "execute_result"
    }
   ],
   "source": [
    "h=' '\n",
    "h.isspace()"
   ]
  },
  {
   "cell_type": "markdown",
   "id": "3177ae1a",
   "metadata": {},
   "source": [
    "22. str.istitle() Returns True if the string is titlecased."
   ]
  },
  {
   "cell_type": "code",
   "execution_count": 21,
   "id": "ec8fcbfa",
   "metadata": {},
   "outputs": [
    {
     "data": {
      "text/plain": [
       "True"
      ]
     },
     "execution_count": 21,
     "metadata": {},
     "output_type": "execute_result"
    }
   ],
   "source": [
    "h='This Is A String'\n",
    "h.istitle()"
   ]
  },
  {
   "cell_type": "markdown",
   "id": "c85ac0f7",
   "metadata": {},
   "source": [
    "23. str.isupper() Returns True if all characters are uppercase."
   ]
  },
  {
   "cell_type": "code",
   "execution_count": 22,
   "id": "e984cae8",
   "metadata": {},
   "outputs": [
    {
     "data": {
      "text/plain": [
       "False"
      ]
     },
     "execution_count": 22,
     "metadata": {},
     "output_type": "execute_result"
    }
   ],
   "source": [
    "h='This is a String' #returns False\n",
    "h.isupper()"
   ]
  },
  {
   "cell_type": "code",
   "execution_count": 23,
   "id": "62421c4d",
   "metadata": {},
   "outputs": [
    {
     "data": {
      "text/plain": [
       "True"
      ]
     },
     "execution_count": 23,
     "metadata": {},
     "output_type": "execute_result"
    }
   ],
   "source": [
    "m='PYTHON'\n",
    "m.isupper() #returns True\n"
   ]
  },
  {
   "cell_type": "markdown",
   "id": "38db32c2",
   "metadata": {},
   "source": [
    "24. str.join(iterable) Joins elements of an iterable with the string as a separator"
   ]
  },
  {
   "cell_type": "code",
   "execution_count": 24,
   "id": "d3e564b3",
   "metadata": {},
   "outputs": [
    {
     "data": {
      "text/plain": [
       "'thisisabhi'"
      ]
     },
     "execution_count": 24,
     "metadata": {},
     "output_type": "execute_result"
    }
   ],
   "source": [
    "h='this','is','abhi'\n",
    "''.join(h)"
   ]
  },
  {
   "cell_type": "markdown",
   "id": "66fd5c6c",
   "metadata": {},
   "source": [
    "25. str.ljust(width[, fillchar]) Left-justifies the string."
   ]
  },
  {
   "cell_type": "code",
   "execution_count": 25,
   "id": "c28f33f4",
   "metadata": {},
   "outputs": [
    {
     "data": {
      "text/plain": [
       "'python    '"
      ]
     },
     "execution_count": 25,
     "metadata": {},
     "output_type": "execute_result"
    }
   ],
   "source": [
    "h='python'\n",
    "h.ljust(10)"
   ]
  },
  {
   "cell_type": "markdown",
   "id": "8613ef96",
   "metadata": {},
   "source": [
    "26. str.lower() Converts to lowercase."
   ]
  },
  {
   "cell_type": "code",
   "execution_count": 26,
   "id": "a9087d30",
   "metadata": {},
   "outputs": [
    {
     "data": {
      "text/plain": [
       "'python'"
      ]
     },
     "execution_count": 26,
     "metadata": {},
     "output_type": "execute_result"
    }
   ],
   "source": [
    "h='PYTHON'\n",
    "h.lower()"
   ]
  },
  {
   "cell_type": "markdown",
   "id": "ee64acd7",
   "metadata": {},
   "source": [
    "27. str.lstrip([chars]) Removes leading characters (default: whitespace)."
   ]
  },
  {
   "cell_type": "code",
   "execution_count": 27,
   "id": "763b6f5f",
   "metadata": {},
   "outputs": [
    {
     "data": {
      "text/plain": [
       "'abhi'"
      ]
     },
     "execution_count": 27,
     "metadata": {},
     "output_type": "execute_result"
    }
   ],
   "source": [
    "l='     abhi'#removes all the whitespace in the left side\n",
    "l.lstrip()\n"
   ]
  },
  {
   "cell_type": "markdown",
   "id": "d63d9cd6",
   "metadata": {},
   "source": [
    "28. str.maketrans(x, y=None, z=None) Returns a translation table."
   ]
  },
  {
   "cell_type": "code",
   "execution_count": 28,
   "id": "8d199b29",
   "metadata": {},
   "outputs": [
    {
     "data": {
      "text/plain": [
       "'shis is dog'"
      ]
     },
     "execution_count": 28,
     "metadata": {},
     "output_type": "execute_result"
    }
   ],
   "source": [
    "h= str.maketrans('at','is')\n",
    "\"this at dog\".translate(h)"
   ]
  },
  {
   "cell_type": "markdown",
   "id": "f85f55fc",
   "metadata": {},
   "source": [
    "29. str.rsplit(sep=None, maxsplit=-1) Splits the string from the right."
   ]
  },
  {
   "cell_type": "code",
   "execution_count": 29,
   "id": "38928e68",
   "metadata": {},
   "outputs": [
    {
     "data": {
      "text/plain": [
       "['python', 'is', 'a', 'easy', 'language']"
      ]
     },
     "execution_count": 29,
     "metadata": {},
     "output_type": "execute_result"
    }
   ],
   "source": [
    "h='python is a easy language'\n",
    "h.rsplit()"
   ]
  },
  {
   "cell_type": "markdown",
   "id": "68aeac60",
   "metadata": {},
   "source": [
    "30. str.partition(sep) Splits the string at the first occurrence of sep."
   ]
  },
  {
   "cell_type": "code",
   "execution_count": 30,
   "id": "06ac138a",
   "metadata": {},
   "outputs": [
    {
     "data": {
      "text/plain": [
       "'his is a string'"
      ]
     },
     "execution_count": 30,
     "metadata": {},
     "output_type": "execute_result"
    }
   ],
   "source": [
    "h='this is a string'\n",
    "h.removeprefix('t')\n"
   ]
  },
  {
   "cell_type": "markdown",
   "id": "54afad30",
   "metadata": {},
   "source": [
    "31. str.removesuffix(suffix) Removes the specified suffix if present."
   ]
  },
  {
   "cell_type": "code",
   "execution_count": 31,
   "id": "c12cff78",
   "metadata": {},
   "outputs": [
    {
     "data": {
      "text/plain": [
       "'This is a strin'"
      ]
     },
     "execution_count": 31,
     "metadata": {},
     "output_type": "execute_result"
    }
   ],
   "source": [
    "h='This is a string'\n",
    "h.removesuffix('g')"
   ]
  },
  {
   "cell_type": "markdown",
   "id": "7d0493af",
   "metadata": {},
   "source": [
    "32. str.replace(old, new[, count]) Returns a copy with all occurrences of a substring replaced."
   ]
  },
  {
   "cell_type": "code",
   "execution_count": 32,
   "id": "082d0f3c",
   "metadata": {},
   "outputs": [
    {
     "data": {
      "text/plain": [
       "'that is a string'"
      ]
     },
     "execution_count": 32,
     "metadata": {},
     "output_type": "execute_result"
    }
   ],
   "source": [
    "h='this is a string'\n",
    "h.replace('this','that')"
   ]
  },
  {
   "cell_type": "markdown",
   "id": "d579046f",
   "metadata": {},
   "source": [
    "33. str.rfind(sub[, start[, end]]) Returns the highest index of the substring."
   ]
  },
  {
   "cell_type": "code",
   "execution_count": 33,
   "id": "d4d37c06",
   "metadata": {},
   "outputs": [
    {
     "data": {
      "text/plain": [
       "23"
      ]
     },
     "execution_count": 33,
     "metadata": {},
     "output_type": "execute_result"
    }
   ],
   "source": [
    "h='this is a part of a string'\n",
    "h.rfind('i')"
   ]
  },
  {
   "cell_type": "markdown",
   "id": "6156f1dc",
   "metadata": {},
   "source": [
    "34. str.rindex(sub[, start[, end]]) Like rfind() but raises ValueError if not found."
   ]
  },
  {
   "cell_type": "code",
   "execution_count": 34,
   "id": "28a7df47",
   "metadata": {},
   "outputs": [
    {
     "data": {
      "text/plain": [
       "18"
      ]
     },
     "execution_count": 34,
     "metadata": {},
     "output_type": "execute_result"
    }
   ],
   "source": [
    "h='this is a part of a String'\n",
    "h.rindex('a')\n"
   ]
  },
  {
   "cell_type": "markdown",
   "id": "52101812",
   "metadata": {},
   "source": [
    "35. str.rjust(width[, fillchar]) Right-justifies the string.\n"
   ]
  },
  {
   "cell_type": "code",
   "execution_count": 35,
   "id": "aa543b94",
   "metadata": {},
   "outputs": [
    {
     "data": {
      "text/plain": [
       "'@@@@python'"
      ]
     },
     "execution_count": 35,
     "metadata": {},
     "output_type": "execute_result"
    }
   ],
   "source": [
    "h='python'\n",
    "h.rjust(10,'@')"
   ]
  },
  {
   "cell_type": "markdown",
   "id": "3eac44e8",
   "metadata": {},
   "source": [
    "36. str.rstrip([chars]) Removes trailing characters (default: whitespace)."
   ]
  },
  {
   "cell_type": "code",
   "execution_count": 36,
   "id": "f4662b5c",
   "metadata": {},
   "outputs": [
    {
     "data": {
      "text/plain": [
       "'this is a string.'"
      ]
     },
     "execution_count": 36,
     "metadata": {},
     "output_type": "execute_result"
    }
   ],
   "source": [
    "h='this is a string.                  '#here it remove all the whitespace from the string in right side\n",
    "h.rstrip()"
   ]
  },
  {
   "cell_type": "markdown",
   "id": "05b99473",
   "metadata": {},
   "source": [
    "37. str.split(sep=None, maxsplit=-1) Splits the string."
   ]
  },
  {
   "cell_type": "code",
   "execution_count": 37,
   "id": "80b87ce7",
   "metadata": {},
   "outputs": [
    {
     "data": {
      "text/plain": [
       "['This', 'is', 'a', 'String']"
      ]
     },
     "execution_count": 37,
     "metadata": {},
     "output_type": "execute_result"
    }
   ],
   "source": [
    "h='This is a String'\n",
    "h.split()"
   ]
  },
  {
   "cell_type": "markdown",
   "id": "8f4c981f",
   "metadata": {},
   "source": [
    "38. str.splitlines([keepends]) Splits at line breaks.\n"
   ]
  },
  {
   "cell_type": "code",
   "execution_count": 38,
   "id": "9c1da1e9",
   "metadata": {},
   "outputs": [
    {
     "data": {
      "text/plain": [
       "['This is aString']"
      ]
     },
     "execution_count": 38,
     "metadata": {},
     "output_type": "execute_result"
    }
   ],
   "source": [
    "h='This is a' \\\n",
    "'String' \n",
    "h.splitlines()\n"
   ]
  },
  {
   "cell_type": "markdown",
   "id": "fd810c25",
   "metadata": {},
   "source": [
    "39. str.startswith(prefix[, start[, end]]) Returns True if the string starts with the prefix."
   ]
  },
  {
   "cell_type": "code",
   "execution_count": 39,
   "id": "9b337ad1",
   "metadata": {},
   "outputs": [
    {
     "data": {
      "text/plain": [
       "True"
      ]
     },
     "execution_count": 39,
     "metadata": {},
     "output_type": "execute_result"
    }
   ],
   "source": [
    "h='This is a String'\n",
    "h.startswith('T')"
   ]
  },
  {
   "cell_type": "markdown",
   "id": "6a1a0a19",
   "metadata": {},
   "source": [
    "40.str.strip([chars]) Removes leading and trailing characters."
   ]
  },
  {
   "cell_type": "code",
   "execution_count": 40,
   "id": "1c2cd384",
   "metadata": {},
   "outputs": [
    {
     "data": {
      "text/plain": [
       "'this is a string'"
      ]
     },
     "execution_count": 40,
     "metadata": {},
     "output_type": "execute_result"
    }
   ],
   "source": [
    "h='       this is a string          '\n",
    "h.strip()"
   ]
  },
  {
   "cell_type": "markdown",
   "id": "3e364c45",
   "metadata": {},
   "source": [
    "41. str.swapcase() Swaps case of all characters.\n"
   ]
  },
  {
   "cell_type": "code",
   "execution_count": 41,
   "id": "0b0ac916",
   "metadata": {},
   "outputs": [
    {
     "data": {
      "text/plain": [
       "'pyTHON'"
      ]
     },
     "execution_count": 41,
     "metadata": {},
     "output_type": "execute_result"
    }
   ],
   "source": [
    "h='PYthon'\n",
    "h.swapcase()"
   ]
  },
  {
   "cell_type": "markdown",
   "id": "8b0d47d6",
   "metadata": {},
   "source": [
    "42. str.title() Returns a titlecased version of the string."
   ]
  },
  {
   "cell_type": "code",
   "execution_count": 42,
   "id": "64f05bfa",
   "metadata": {},
   "outputs": [
    {
     "data": {
      "text/plain": [
       "'This Is A String'"
      ]
     },
     "execution_count": 42,
     "metadata": {},
     "output_type": "execute_result"
    }
   ],
   "source": [
    "h='This is a string'\n",
    "h.title()"
   ]
  },
  {
   "cell_type": "markdown",
   "id": "a610927f",
   "metadata": {},
   "source": [
    "43. str.upper() Converts all characters to uppercase."
   ]
  },
  {
   "cell_type": "code",
   "execution_count": 43,
   "id": "4c993271",
   "metadata": {},
   "outputs": [
    {
     "data": {
      "text/plain": [
       "'THIS IS   A STRING'"
      ]
     },
     "execution_count": 43,
     "metadata": {},
     "output_type": "execute_result"
    }
   ],
   "source": [
    "h='This is   a String'\n",
    "h.upper()"
   ]
  },
  {
   "cell_type": "markdown",
   "id": "bc2fab09",
   "metadata": {},
   "source": [
    "44. str.zfill(width) Pads the string on the left with zeros."
   ]
  },
  {
   "cell_type": "code",
   "execution_count": 44,
   "id": "5cf74e9f",
   "metadata": {},
   "outputs": [
    {
     "data": {
      "text/plain": [
       "'000000000000abhishek'"
      ]
     },
     "execution_count": 44,
     "metadata": {},
     "output_type": "execute_result"
    }
   ],
   "source": [
    "h='abhishek'\n",
    "h.zfill(20)"
   ]
  },
  {
   "cell_type": "markdown",
   "id": "59cea57e",
   "metadata": {},
   "source": [
    "45. str.isnumeric() Returns True if all characters are numeric."
   ]
  },
  {
   "cell_type": "code",
   "execution_count": 45,
   "id": "a03aae0b",
   "metadata": {},
   "outputs": [
    {
     "data": {
      "text/plain": [
       "False"
      ]
     },
     "execution_count": 45,
     "metadata": {},
     "output_type": "execute_result"
    }
   ],
   "source": [
    "h='97abhi'\n",
    "h.isnumeric()"
   ]
  }
 ],
 "metadata": {
  "kernelspec": {
   "display_name": "base",
   "language": "python",
   "name": "python3"
  },
  "language_info": {
   "codemirror_mode": {
    "name": "ipython",
    "version": 3
   },
   "file_extension": ".py",
   "mimetype": "text/x-python",
   "name": "python",
   "nbconvert_exporter": "python",
   "pygments_lexer": "ipython3",
   "version": "3.13.5"
  }
 },
 "nbformat": 4,
 "nbformat_minor": 5
}
